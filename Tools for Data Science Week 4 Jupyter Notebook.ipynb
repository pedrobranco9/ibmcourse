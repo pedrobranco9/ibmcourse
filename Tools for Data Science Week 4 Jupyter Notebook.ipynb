{
  "cells": [
    {
      "metadata": {
        "collapsed": true
      },
      "cell_type": "markdown",
      "source": "# My Jupyter Notebook on IBM Watson Studio"
    },
    {
      "metadata": {},
      "cell_type": "markdown",
      "source": "#### Lauren Hill"
    },
    {
      "metadata": {},
      "cell_type": "markdown",
      "source": "AI Engineer"
    },
    {
      "metadata": {},
      "cell_type": "markdown",
      "source": "_I am interested in data science because data is factual and can give us the insights to shape the world into a better place._"
    },
    {
      "metadata": {},
      "cell_type": "markdown",
      "source": "### The following code tests the Gauss formula"
    },
    {
      "metadata": {},
      "cell_type": "code",
      "source": "def gauss(n):\n    return (n*(n+1))/2\n\ngauss(100) == sum(range(101))",
      "execution_count": 7,
      "outputs": [
        {
          "output_type": "execute_result",
          "execution_count": 7,
          "data": {
            "text/plain": "True"
          },
          "metadata": {}
        }
      ]
    },
    {
      "metadata": {},
      "cell_type": "markdown",
      "source": "***"
    },
    {
      "metadata": {},
      "cell_type": "markdown",
      "source": "- one\n- two\n- three\n- one\n- two\n- three"
    },
    {
      "metadata": {},
      "cell_type": "markdown",
      "source": "|**Markdown**|**Less**|**Pretty**|\n|------|------|------|\n|*Still*|renders|**nicely**|\n|1|2|3|"
    },
    {
      "metadata": {},
      "cell_type": "markdown",
      "source": ">_The biggest challenge of making the evolution from a knowing culture to a learning culture—from a culture that largely depends on heuristics in decision making to a culture that is much more objective and data-driven and embraces the power of data and technology—is really not the cost. Initially, it largely ends up being imagination and inertia… What I have learned in my last few years is that the power of fear is quite tremendous in evolving oneself to think and act differently today, and to ask questions today that we weren’t asking about our roles before. And it’s that mindset change—from an expert-based mindset to one that is much more dynamic and much more learning oriented, as opposed to a fixed mindset—that I think is fundamental to the sustainable health of any company, large, small, or medium._ \n– Murli Buluswar, chief science officer, AIG"
    },
    {
      "metadata": {},
      "cell_type": "code",
      "source": "",
      "execution_count": null,
      "outputs": []
    }
  ],
  "metadata": {
    "kernelspec": {
      "name": "python3",
      "display_name": "Python 3.7",
      "language": "python"
    },
    "language_info": {
      "name": "python",
      "version": "3.7.9",
      "mimetype": "text/x-python",
      "codemirror_mode": {
        "name": "ipython",
        "version": 3
      },
      "pygments_lexer": "ipython3",
      "nbconvert_exporter": "python",
      "file_extension": ".py"
    }
  },
  "nbformat": 4,
  "nbformat_minor": 1
}